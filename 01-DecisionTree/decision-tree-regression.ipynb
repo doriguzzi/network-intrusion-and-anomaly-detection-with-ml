{
 "cells": [
  {
   "cell_type": "markdown",
   "metadata": {},
   "source": [
    "# Decision Tree (DT) for regression problems. \n",
    "In this lab we train a DT with synthetic data for a regression problem (prediction of a real number). In this example, we simulate the prediction of the average packet size of a flow given the duration of that flow."
   ]
  },
  {
   "cell_type": "code",
   "execution_count": null,
   "metadata": {},
   "outputs": [],
   "source": [
    "# Author: Roberto Doriguzzi-Corin\n",
    "# Project: Course on Network Intrusion and Anomaly Detection with Deep Learning\n",
    "#\n",
    "# Licensed under the Apache License, Version 2.0 (the \"License\");\n",
    "# you may not use this file except in compliance with the License.\n",
    "# You may obtain a copy of the License at\n",
    "#\n",
    "#   http://www.apache.org/licenses/LICENSE-2.0\n",
    "#\n",
    "# Unless required by applicable law or agreed to in writing, software\n",
    "# distributed under the License is distributed on an \"AS IS\" BASIS,\n",
    "# WITHOUT WARRANTIES OR CONDITIONS OF ANY KIND, either express or implied.\n",
    "# See the License for the specific language governing permissions and\n",
    "# limitations under the License.\n",
    "\n",
    "# Import necessary libraries\n",
    "import numpy as np\n",
    "from sklearn.tree import DecisionTreeRegressor, plot_tree\n",
    "import matplotlib.pyplot as plt\n",
    "\n",
    "OUTPUT_FILE = \"./reg_tree\"\n",
    "\n",
    "# Generate some sample data (a sin function with some random noise)\n",
    "np.random.seed(0)\n",
    "X = np.sort(5 * np.random.rand(80, 1), axis=0)\n",
    "y = 80 + 5*np.sin(X).ravel()\n",
    "y[::5] += 10 * (np.random.rand(16))\n",
    "y[::5] += -10 * (np.random.rand(16))\n",
    "\n",
    "# Fit a decision tree regressor\n",
    "tree_regr = DecisionTreeRegressor(min_samples_leaf=5) # try with min_samples_leaf to avoid overfitting\n",
    "tree_regr.fit(X, y)\n",
    "\n",
    "# Plot the decision tree\n",
    "plt.figure(figsize=(10, 6))\n",
    "plot_tree(tree_regr, filled=True, feature_names=[\"Flow duration (sec)\"])\n",
    "plt.title(\"Decision Tree Regression\")\n",
    "plt.show()"
   ]
  },
  {
   "cell_type": "code",
   "execution_count": null,
   "metadata": {},
   "outputs": [],
   "source": [
    "# Predictions (numbers from 0 to 5 with increment 0.01)\n",
    "X_test = np.arange(0.0, 5.0, 0.01)[:, np.newaxis]\n",
    "y_pred = tree_regr.predict(X_test)\n",
    "\n",
    "# Plot the results\n",
    "plt.figure()\n",
    "plt.scatter(X, y, s=20, edgecolor=\"black\", c=\"yellow\", label=\"data\")\n",
    "plt.plot(X_test, y_pred, color=\"cornflowerblue\", label=\"prediction\")\n",
    "plt.xlabel(\"Flow duration (sec)\")\n",
    "plt.ylabel(\"Average Packet size\")\n",
    "plt.title(\"Decision Tree Regression\")\n",
    "plt.legend()\n",
    "plt.show()"
   ]
  }
 ],
 "metadata": {
  "kernelspec": {
   "display_name": "python313",
   "language": "python",
   "name": "python3"
  },
  "language_info": {
   "codemirror_mode": {
    "name": "ipython",
    "version": 3
   },
   "file_extension": ".py",
   "mimetype": "text/x-python",
   "name": "python",
   "nbconvert_exporter": "python",
   "pygments_lexer": "ipython3",
   "version": "3.13.5"
  },
  "orig_nbformat": 4
 },
 "nbformat": 4,
 "nbformat_minor": 2
}
