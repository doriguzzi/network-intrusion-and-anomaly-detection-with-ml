{
 "cells": [
  {
   "cell_type": "markdown",
   "id": "5172ff0e",
   "metadata": {},
   "source": [
    "# Training a CNN for DDoS attack detection\n",
    "In this laboratory, you will train a DL model (LUCID) on a dataset of benign and DDoS network traffic. After 100 epochs, the trained model is saved on the hard disk in [*h5* format](https://www.hdfgroup.org/). The accuracy of the resulting model, as well as the duration of the training process, depends on a range of variables, such as the model's hyper-parameters, the model's layers (fully connected, convolutional), the optimizer (e.g., SGD or Adam) and on the number of training epochs.    \n",
    "\n",
    "Although all these parameters can be tuned with automated procedures, in this laboratory you will modify them manually to understand the impact of your changes on the training process and output."
   ]
  },
  {
   "cell_type": "code",
   "execution_count": null,
   "id": "99aec2aa",
   "metadata": {},
   "outputs": [],
   "source": [
    "# Author: Roberto Doriguzzi-Corin\n",
    "# Project: Course on Network Intrusion and Anomaly Detection with Machine Learning\n",
    "#\n",
    "# Licensed under the Apache License, Version 2.0 (the \"License\");\n",
    "# you may not use this file except in compliance with the License.\n",
    "# You may obtain a copy of the License at\n",
    "#\n",
    "#   http://www.apache.org/licenses/LICENSE-2.0\n",
    "#\n",
    "# Unless required by applicable law or agreed to in writing, software\n",
    "# distributed under the License is distributed on an \"AS IS\" BASIS,\n",
    "# WITHOUT WARRANTIES OR CONDITIONS OF ANY KIND, either express or implied.\n",
    "# See the License for the specific language governing permissions and\n",
    "# limitations under the License.\n",
    "\n",
    "import sys\n",
    "import time\n",
    "import glob\n",
    "import argparse\n",
    "import tensorflow as tf\n",
    "import numpy as np\n",
    "import random as rn\n",
    "import os\n",
    "import csv\n",
    "import h5py\n",
    "import logging\n",
    "\n",
    "# Seed Random Numbers\n",
    "SEED = 1\n",
    "os.environ['PYTHONHASHSEED']=str(SEED)\n",
    "np.random.seed(SEED)\n",
    "rn.seed(SEED)\n",
    "config = tf.compat.v1.ConfigProto(inter_op_parallelism_threads=1)\n",
    "os.environ['TF_CPP_MIN_LOG_LEVEL'] = '2'\n",
    "tf.get_logger().setLevel(logging.ERROR)\n",
    "\n",
    "OUTPUT_FOLDER = \"./output/\"\n",
    "\n",
    "from itertools import cycle\n",
    "from tensorflow.keras.optimizers import Adam,SGD\n",
    "from tensorflow.keras.layers import Dense, Activation,  Flatten, Conv2D, Input\n",
    "from tensorflow.keras.layers import  GlobalMaxPooling2D\n",
    "from tensorflow.keras.models import Model, Sequential, save_model, load_model, clone_model\n",
    "from sklearn.metrics import f1_score, precision_score, accuracy_score, log_loss, confusion_matrix\n",
    "from sklearn.utils import shuffle\n",
    "\n",
    "import tensorflow.keras.backend as K\n",
    "tf.random.set_seed(SEED)\n",
    "K.set_image_data_format('channels_last')\n",
    "tf.compat.v1.logging.set_verbosity(tf.compat.v1.logging.ERROR)\n",
    "config.gpu_options.allow_growth = True  # dynamically grow the memory used on the GPU\n",
    "#config.log_device_placement = True  # to log device placement (on which device the operation ran)"
   ]
  },
  {
   "cell_type": "code",
   "execution_count": null,
   "id": "3b4f7399",
   "metadata": {},
   "outputs": [],
   "source": [
    "def load_dataset(path):\n",
    "    filename = glob.glob(path)[0]\n",
    "    dataset = h5py.File(filename, \"r\")\n",
    "    set_x_orig = np.array(dataset[\"set_x\"][:])  # features\n",
    "    set_y_orig = np.array(dataset[\"set_y\"][:])  # labels\n",
    "\n",
    "    X = np.reshape(set_x_orig, (set_x_orig.shape[0], set_x_orig.shape[1], set_x_orig.shape[2], 1))\n",
    "    Y = set_y_orig\n",
    "\n",
    "    return X, Y"
   ]
  },
  {
   "cell_type": "markdown",
   "id": "5aae6f04",
   "metadata": {},
   "source": [
    "## Model design\n",
    "The architecture of the model consists of one [convolutional layer](https://keras.io/api/layers/convolution_layers/), [max pooling](https://keras.io/api/layers/pooling_layers/global_max_pooling2d/) and a final classification [dense layer](https://keras.io/api/layers/core_layers/dense/), whose output is the probability of the input sample of being a DDoS flow. Please note that the output layer of the neural network consists of only one neuron, whose value is the output of the sigmoid activation function (a real number between 0 and 1).\n",
    "\n",
    "<img src=\"../../Content/artworks/ml-workflow.png\" width=\"90%\">"
   ]
  },
  {
   "cell_type": "code",
   "execution_count": null,
   "id": "d37fcf93",
   "metadata": {},
   "outputs": [],
   "source": [
    "# hyperparameters\n",
    "MAX_EPOCHS=100 # number of rounds of training (start with 100 and then try with e.g., 500) \n",
    "LR = 0.01\n",
    "BATCH_SIZE = 2048\n",
    "KERNELS = 64 # the \"k\" parameter in the figure\n",
    "KERNEL_HEIGHT = 3 # the \"h\" parameter in the figure"
   ]
  },
  {
   "cell_type": "code",
   "execution_count": null,
   "id": "27630a07",
   "metadata": {},
   "outputs": [],
   "source": [
    "# CNN model\n",
    "def Conv2DModel(model_name, input_shape,kernels,kernel_rows,kernel_col):\n",
    "    K.clear_session()\n",
    "\n",
    "    model = Sequential(name=model_name)\n",
    "    model.add(Input(shape=input_shape)),\n",
    "    model.add(Conv2D(kernels, (kernel_rows,kernel_col), strides=(1, 1), name='conv0'))\n",
    "    model.add(Activation('relu'))\n",
    "    model.add(GlobalMaxPooling2D())\n",
    "    model.add(Flatten())\n",
    "    model.add(Dense(1, activation='sigmoid', name='fc1'))\n",
    "\n",
    "    print(model.summary())\n",
    "    return model"
   ]
  },
  {
   "cell_type": "code",
   "execution_count": null,
   "id": "13be8d26",
   "metadata": {},
   "outputs": [],
   "source": [
    "def compileModel(model,lr):\n",
    "    #optimizer = SGD(learning_rate=lr, momentum=0.9)\n",
    "    optimizer = Adam(learning_rate=lr, beta_1=0.9, beta_2=0.999)\n",
    "    model.compile(loss='binary_crossentropy', optimizer=optimizer,metrics=['accuracy'])  # here we specify the loss function"
   ]
  },
  {
   "cell_type": "code",
   "execution_count": null,
   "id": "2d20ace5",
   "metadata": {},
   "outputs": [],
   "source": [
    "def trainingEpoch(model, batch_size, X_train,Y_train,X_val,Y_val):\n",
    "    tt0 = time.time()\n",
    "    history = model.fit(x=X_train, y=Y_train, validation_data=(X_val, Y_val), epochs=1, batch_size=batch_size, verbose=2, callbacks=[])\n",
    "    tt1 = time.time()\n",
    "\n",
    "    accuracy_train = history.history['accuracy'][0]\n",
    "    loss_train = history.history['loss'][0]\n",
    "    accuracy_val = history.history['val_accuracy'][0]\n",
    "    loss_val = history.history['val_loss'][0]\n",
    "    return tt1-tt0, accuracy_train, loss_train , accuracy_val, loss_val"
   ]
  },
  {
   "cell_type": "code",
   "execution_count": null,
   "id": "c2c6f304",
   "metadata": {},
   "outputs": [],
   "source": [
    "X_train, Y_train = load_dataset(\"./sample-dataset//*\" + '-train.hdf5')\n",
    "X_val, Y_val = load_dataset(\"./sample-dataset//*\" + '-val.hdf5')\n",
    "\n",
    "X_train, Y_train = shuffle(X_train, Y_train, random_state=SEED)\n",
    "X_val, Y_val = shuffle(X_val, Y_val, random_state=SEED)"
   ]
  },
  {
   "cell_type": "code",
   "execution_count": null,
   "id": "7e2f3a6a",
   "metadata": {},
   "outputs": [],
   "source": [
    "#CNN Model\n",
    "model = Conv2DModel(\"cnn\", X_train.shape[1:4], KERNELS,KERNEL_HEIGHT, X_train.shape[2])\n",
    "compileModel(model,LR)"
   ]
  },
  {
   "cell_type": "code",
   "execution_count": null,
   "id": "6b8349a7",
   "metadata": {},
   "outputs": [],
   "source": [
    "training_fieldnames = ['Samples', 'Time', 'Accuracy(train)', 'Loss(train)', 'Accuracy(val)', 'Loss(val)']\n",
    "training_file = open('./training-binary.csv', 'a', newline='')\n",
    "training_file.truncate(0)  # clean the file content (as we open the file in append mode)\n",
    "training_writer = csv.DictWriter(training_file, fieldnames=training_fieldnames)\n",
    "training_writer.writeheader()\n",
    "training_file.flush()"
   ]
  },
  {
   "cell_type": "code",
   "execution_count": null,
   "id": "6af450c6",
   "metadata": {},
   "outputs": [],
   "source": [
    "# Training variables\n",
    "min_loss = float('inf')\n",
    "max_acc_val = 0\n",
    "best_model = None"
   ]
  },
  {
   "cell_type": "code",
   "execution_count": null,
   "id": "1e02c1b5",
   "metadata": {},
   "outputs": [],
   "source": [
    "for epoch in range(MAX_EPOCHS):\n",
    "    print(\"Epoch: %d/%s\" % (epoch + 1, MAX_EPOCHS))\n",
    "    ttime, acc_train,loss_train, acc_val, loss_val= trainingEpoch(model, BATCH_SIZE, X_train, Y_train, X_val, Y_val)\n",
    "    row = {'Samples': Y_train.shape[0], 'Time': '{:10.3f}'.format(ttime), 'Accuracy(train)': acc_train,\n",
    "           'Loss(train)': loss_train, 'Accuracy(val)': acc_val, 'Loss(val)': loss_val}\n",
    "    training_writer.writerow(row)\n",
    "\n",
    "    if acc_val > max_acc_val:\n",
    "        max_acc_val = acc_val\n",
    "        best_model_loss_val = loss_val\n",
    "        best_model = clone_model(model)\n",
    "        best_model.set_weights(model.get_weights())"
   ]
  },
  {
   "cell_type": "code",
   "execution_count": null,
   "id": "a3f187c8",
   "metadata": {},
   "outputs": [],
   "source": [
    "if best_model is not None:\n",
    "    tp0 = time.time()\n",
    "    Y_pred_val = (best_model.predict(X_val) > 0.5)\n",
    "    tp1 = time.time()\n",
    "    Y_true_val = Y_val.reshape((Y_val.shape[0], 1))\n",
    "    f1_score_val = f1_score(Y_true_val, Y_pred_val)\n",
    "\n",
    "\n",
    "    try:\n",
    "        if os.path.isdir(OUTPUT_FOLDER) == False:\n",
    "            os.mkdir(OUTPUT_FOLDER)\n",
    "        best_model.save(OUTPUT_FOLDER+'10t-10n-DOS2019-LUCID.keras')\n",
    "        print(\"F1 Score of the saved on the validation set: \", f1_score_val)\n",
    "    except:\n",
    "        print(\"An exception occurred when saving the model!\")"
   ]
  },
  {
   "cell_type": "code",
   "execution_count": null,
   "id": "d87a0243",
   "metadata": {},
   "outputs": [],
   "source": [
    "training_file.close()\n",
    "print(\"Training log saved in file: \", training_file.name)"
   ]
  }
 ],
 "metadata": {
  "kernelspec": {
   "display_name": "python313",
   "language": "python",
   "name": "python3"
  },
  "language_info": {
   "codemirror_mode": {
    "name": "ipython",
    "version": 3
   },
   "file_extension": ".py",
   "mimetype": "text/x-python",
   "name": "python",
   "nbconvert_exporter": "python",
   "pygments_lexer": "ipython3",
   "version": "3.13.5"
  }
 },
 "nbformat": 4,
 "nbformat_minor": 5
}
